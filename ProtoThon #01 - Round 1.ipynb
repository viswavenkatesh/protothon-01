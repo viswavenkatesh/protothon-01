{
 "cells": [
  {
   "cell_type": "markdown",
   "metadata": {},
   "source": [
    "## #1 Simple Calculator"
   ]
  },
  {
   "cell_type": "code",
   "execution_count": null,
   "metadata": {},
   "outputs": [],
   "source": [
    "def add ():\n",
    "    return (a + b)\n",
    "\n",
    "def subtract ():\n",
    "    return (a - b)\n",
    "\n",
    "def multiply ():\n",
    "    return (a * b)\n",
    "\n",
    "def divide ():\n",
    "    if b == 0:\n",
    "        raise Exception (\"ZeroDivisionError: Cannot Divide by Zero!\")\n",
    "    return (a / b)\n",
    "\n",
    "def default():\n",
    "    raise Exception (\"Incorrect Choice. Run again!\")\n",
    "\n",
    "calcDict = {\n",
    "    1: add,\n",
    "    2: subtract,\n",
    "    3: multiply,\n",
    "    4: divide,\n",
    "    }\n",
    "\n",
    "print(\"What do you want to do today?\")\n",
    "print(\"1. Addition\\n2. Subtraction\\n3. Multiplication\\n4. Division\\n\")\n",
    "choice = int(input(\"Enter the choice in numbers: \"))\n",
    "a = int(input(\"Enter the first number: \"))\n",
    "b = int(input(\"Enter the second number: \"))\n",
    "result = calcDict.get(choice, default)()\n",
    "print(\"The answer is: \" + str(result))"
   ]
  },
  {
   "cell_type": "markdown",
   "metadata": {},
   "source": [
    "## #2 Root Mean Square"
   ]
  },
  {
   "cell_type": "code",
   "execution_count": null,
   "metadata": {},
   "outputs": [],
   "source": [
    "from math import sqrt\n",
    "\n",
    "def RootMeanSquare():\n",
    "    result = 0\n",
    "    for value in values:\n",
    "        result += pow(int(value), 2)\n",
    "    return (sqrt (result / n))\n",
    "\n",
    "print(\"Program to calculate Root Mean Square! \\n\")\n",
    "n = int(input(\"Enter the number of values: \"))\n",
    "str_values = input(\"Enter values seperated by comma: \" )\n",
    "values = str_values.split(\",\")\n",
    "assert (len(values) == n), \"Enter correct number of values\"\n",
    "print(RootMeanSquare())"
   ]
  },
  {
   "cell_type": "markdown",
   "metadata": {},
   "source": [
    "## #3 Pascal's Triangle"
   ]
  },
  {
   "cell_type": "code",
   "execution_count": 19,
   "metadata": {},
   "outputs": [
    {
     "name": "stdout",
     "output_type": "stream",
     "text": [
      "Enter number of rows: 5\n",
      "\n",
      "\n",
      "      1\n",
      "     1 1\n",
      "    1 2 1\n",
      "   1 3 3 1\n",
      "  1 4 6 4 1\n"
     ]
    }
   ],
   "source": [
    "rows = int(input(\"Enter number of rows: \"))\n",
    "print(\"\\n\")\n",
    "pascal_list = [1]\n",
    "\n",
    "for i in range (rows):\n",
    "    print(\" \" * (rows-i), *pascal_list)\n",
    "    new_list = []\n",
    "    new_list.append (pascal_list[0])\n",
    "    for i in range (len(pascal_list)-1):\n",
    "        new_list.append (pascal_list[i] + pascal_list[i+1])\n",
    "    new_list.append(pascal_list[-1])\n",
    "    pascal_list = new_list"
   ]
  },
  {
   "cell_type": "markdown",
   "metadata": {},
   "source": [
    "## #4 While Loop - CPU and Memory Usage < 5%"
   ]
  },
  {
   "cell_type": "code",
   "execution_count": null,
   "metadata": {},
   "outputs": [],
   "source": [
    "import time\n",
    "my_list = []\n",
    "value = 1\n",
    "while (True):\n",
    "        my_list.append(value)\n",
    "        value += 1\n",
    "        print(my_list)\n",
    "        time.sleep(0.001)"
   ]
  },
  {
   "cell_type": "markdown",
   "metadata": {},
   "source": [
    "## #5 Permutations"
   ]
  },
  {
   "cell_type": "code",
   "execution_count": 2,
   "metadata": {},
   "outputs": [
    {
     "name": "stdout",
     "output_type": "stream",
     "text": [
      "Enter the word: car\n",
      "arc\n",
      "car\n"
     ]
    }
   ],
   "source": [
    "from itertools import permutations\n",
    "\n",
    "def load_words():\n",
    "    with open('words_alpha.txt') as word_file:\n",
    "        words = list(word_file.read().split())\n",
    "    return words\n",
    "\n",
    "words_dict = load_words()\n",
    "\n",
    "anagram = input(\"Enter the word: \").lower()\n",
    "new_word_list = []\n",
    "word_list = list(permutations(anagram))\n",
    "\n",
    "for word_tuple in word_list:\n",
    "    word = ''.join(word_tuple)\n",
    "    new_word_list.append(word)\n",
    "\n",
    "word_set = set(new_word_list)\n",
    "\n",
    "for word in word_set:\n",
    "    for valid_word in words_dict:\n",
    "        if word == valid_word:\n",
    "            print(word)"
   ]
  },
  {
   "cell_type": "markdown",
   "metadata": {},
   "source": [
    "## #6 Simple Text Formatter"
   ]
  },
  {
   "cell_type": "code",
   "execution_count": null,
   "metadata": {},
   "outputs": [],
   "source": [
    "my_str = input(\"Enter an String: \")\n",
    "print(my_str.upper() + \"\\n\" + my_str + \"\\n\" + my_str.title() + \"\\n\" + my_str.capitalize())"
   ]
  }
 ],
 "metadata": {
  "kernelspec": {
   "display_name": "Python 3",
   "language": "python",
   "name": "python3"
  },
  "language_info": {
   "codemirror_mode": {
    "name": "ipython",
    "version": 3
   },
   "file_extension": ".py",
   "mimetype": "text/x-python",
   "name": "python",
   "nbconvert_exporter": "python",
   "pygments_lexer": "ipython3",
   "version": "3.7.1"
  }
 },
 "nbformat": 4,
 "nbformat_minor": 2
}
